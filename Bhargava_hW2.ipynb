{
 "cells": [
  {
   "cell_type": "code",
   "execution_count": 1,
   "id": "8b149200",
   "metadata": {},
   "outputs": [
    {
     "name": "stdout",
     "output_type": "stream",
     "text": [
      "reshaped array is\n",
      "  [[ 9 14  7 18  8]\n",
      " [11 12 15 13  3]\n",
      " [19 15 18 16  5]]\n",
      "shape of array is  (3, 5)\n"
     ]
    },
    {
     "data": {
      "text/plain": [
       "array([[ 9, 14,  7,  0,  8],\n",
       "       [11, 12,  0, 13,  3],\n",
       "       [ 0,  0,  0, 16,  5]])"
      ]
     },
     "execution_count": 1,
     "metadata": {},
     "output_type": "execute_result"
    }
   ],
   "source": [
    "import numpy as np\n",
    "#create random vector of size 15 having only Integers in the range 1-20\n",
    "a = np.random.randint(1,21,15)\n",
    "#reshaping the array\n",
    "b=a.reshape(3,5)\n",
    "#printing the reshaped array\n",
    "print(\"reshaped array is\\n \",b)\n",
    "#printing the shape of array\n",
    "print(\"shape of array is \",b.shape)\n",
    "maxNum = np.max(b, axis=1)\n",
    "#replacing max number in each row by 0\n",
    "np.where(np.isin(b,maxNum), 0, b)"
   ]
  },
  {
   "cell_type": "code",
   "execution_count": 2,
   "id": "d8a63dab",
   "metadata": {},
   "outputs": [
    {
     "name": "stdout",
     "output_type": "stream",
     "text": [
      "basic Stastical description\n",
      "          Duration       Pulse    Maxpulse     Calories\n",
      "count  169.000000  169.000000  169.000000   164.000000\n",
      "mean    63.846154  107.461538  134.047337   375.790244\n",
      "std     42.299949   14.510259   16.450434   266.379919\n",
      "min     15.000000   80.000000  100.000000    50.300000\n",
      "25%     45.000000  100.000000  124.000000   250.925000\n",
      "50%     60.000000  105.000000  131.000000   318.600000\n",
      "75%     60.000000  111.000000  141.000000   387.600000\n",
      "max    300.000000  159.000000  184.000000  1860.400000\n",
      "After aggregation\n",
      "          Duration       Pulse\n",
      "min     15.000000   80.000000\n",
      "max    300.000000  159.000000\n",
      "mean    63.846154  107.461538\n",
      "count  169.000000  169.000000\n",
      "After filtering rows with calories between 500 and 1000\n",
      "      Duration  Pulse  Maxpulse  Calories\n",
      "51         80    123       146     643.1\n",
      "62        160    109       135     853.0\n",
      "65        180     90       130     800.4\n",
      "66        150    105       135     873.4\n",
      "67        150    107       130     816.0\n",
      "72         90    100       127     700.0\n",
      "73        150     97       127     953.2\n",
      "75         90     98       125     563.2\n",
      "78        120    100       130     500.4\n",
      "90        180    101       127     600.1\n",
      "99         90     93       124     604.1\n",
      "103        90     90       100     500.4\n",
      "106       180     90       120     800.3\n",
      "108        90     90       120     500.3\n",
      "after filtering rows calories values > 500 and pulse < 100\n",
      "      Duration  Pulse  Maxpulse  Calories\n",
      "65        180     90       130     800.4\n",
      "70        150     97       129    1115.0\n",
      "73        150     97       127     953.2\n",
      "75         90     98       125     563.2\n",
      "99         90     93       124     604.1\n",
      "103        90     90       100     500.4\n",
      "106       180     90       120     800.3\n",
      "108        90     90       120     500.3\n",
      "Modified data\n",
      "      Duration  Pulse  Calories\n",
      "0          60    110     409.1\n",
      "1          60    117     479.0\n",
      "2          60    103     340.0\n",
      "3          45    109     282.4\n",
      "4          45    117     406.0\n",
      "..        ...    ...       ...\n",
      "164        60    105     290.8\n",
      "165        60    110     300.0\n",
      "166        60    115     310.2\n",
      "167        75    120     320.4\n",
      "168        75    125     330.4\n",
      "\n",
      "[169 rows x 3 columns]\n",
      "after changing calories datatype\n",
      "      Duration  Pulse  Calories\n",
      "0          60    110       409\n",
      "1          60    117       479\n",
      "2          60    103       340\n",
      "3          45    109       282\n",
      "4          45    117       406\n",
      "..        ...    ...       ...\n",
      "164        60    105       290\n",
      "165        60    110       300\n",
      "166        60    115       310\n",
      "167        75    120       320\n",
      "168        75    125       330\n",
      "\n",
      "[169 rows x 3 columns]\n"
     ]
    },
    {
     "data": {
      "text/plain": [
       "<AxesSubplot:xlabel='Duration', ylabel='Calories'>"
      ]
     },
     "execution_count": 2,
     "metadata": {},
     "output_type": "execute_result"
    },
    {
     "data": {
      "image/png": "[encoded data removed]",
      "text/plain": [
       "<Figure size 432x288 with 1 Axes>"
      ]
     },
     "metadata": {
      "needs_background": "light"
     },
     "output_type": "display_data"
    }
   ],
   "source": [
    "import pandas as pd\n",
    "#Read ‘data.csv’.\n",
    "df=pd.read_csv(\"data.csv\")\n",
    "#the basic statistical description about the data.\n",
    "print(\"basic Stastical description\\n\",df.describe())\n",
    "#Checking if the data has null values and Replacing them with the mean\n",
    "df=df.fillna(df.mean())\n",
    "#aggregating the data using: min, max, count, mean by Selecting at least two columns\n",
    "print(\"After aggregation\\n\",df[['Duration','Pulse']].agg(['min','max','mean','count']))\n",
    "#Filtering the dataframe to select the rows with calories values between 500 and 1000. \n",
    "print(\"After filtering rows with calories between 500 and 1000\\n\",df[(df.Calories>500) & (df.Calories<1000)])\n",
    "#Filtering the dataframe to select the rows with calories values > 500 and pulse < 100. \n",
    "print(\"after filtering rows calories values > 500 and pulse < 100\\n\",df[(df.Calories>500) & (df.Pulse<100)])\n",
    "#Creating a new “df_modified” dataframe that contains all the columns from df except for “Maxpulse”\n",
    "df_modified=pd.DataFrame(df,columns=[\"Duration\",\"Pulse\",\"Calories\"])\n",
    "print(\"Modified data\\n\",df_modified)\n",
    "#Deleting the “Maxpulse” column from the main df dataframe\n",
    "del df['Maxpulse']\n",
    "#. Converting the datatype of Calories column to int datatype\n",
    "df[\"Calories\"] = df[\"Calories\"].astype(\"int\") \n",
    "print(\"after changing calories datatype\\n\",df)\n",
    "#create a scatter plot for the two columns (Duration and Calories).\n",
    "df.plot.scatter(x = 'Duration', y = 'Calories')"
   ]
  },
  {
   "cell_type": "code",
   "execution_count": 3,
   "id": "3029d9b7",
   "metadata": {},
   "outputs": [
    {
     "data": {
      "image/png": "[encoded data removed]",
      "text/plain": [
       "<Figure size 432x288 with 1 Axes>"
      ]
     },
     "metadata": {},
     "output_type": "display_data"
    }
   ],
   "source": [
    "import matplotlib.pyplot as plt\n",
    "# Data to plot\n",
    "Programming_languages = 'Java', 'Python', 'PHP', 'JavaScript', 'C#', 'C++'\n",
    "popularity = [22.2, 17.6, 8.8, 8, 7.7, 6.7]\n",
    "#giving the respctive colours\n",
    "colours = [\"#1f77b4\", \"#ff7f0e\", \"#2ca02c\", \"#d62728\", \"#9467bd\", \"#8c564b\"]\n",
    "#breaking java slice from the chart\n",
    "explode=(0.1,0,0,0,0,0)  \n",
    "# Plotting the chart\n",
    "plt.pie(popularity, explode=explode, labels=Programming_languages, colors=colours,\n",
    "autopct='%1.1f%%', shadow=True, startangle=140)\n",
    "plt.show()"
   ]
  },
  {
   "cell_type": "code",
   "execution_count": null,
   "id": "495b00a5",
   "metadata": {},
   "outputs": [],
   "source": []
  }
 ],
 "metadata": {
  "kernelspec": {
   "display_name": "Python 3 (ipykernel)",
   "language": "python",
   "name": "python3"
  },
  "language_info": {
   "codemirror_mode": {
    "name": "ipython",
    "version": 3
   },
   "file_extension": ".py",
   "mimetype": "text/x-python",
   "name": "python",
   "nbconvert_exporter": "python",
   "pygments_lexer": "ipython3",
   "version": "3.9.12"
  }
 },
 "nbformat": 4,
 "nbformat_minor": 5
}
